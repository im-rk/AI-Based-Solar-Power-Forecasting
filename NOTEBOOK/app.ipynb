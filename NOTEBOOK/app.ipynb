{
 "cells": [
  {
   "cell_type": "code",
   "execution_count": 1,
   "id": "ed58d0c2-b050-46f0-a862-d67b30268240",
   "metadata": {},
   "outputs": [
    {
     "name": "stdout",
     "output_type": "stream",
     "text": [
      "Requirement already satisfied: flask in c:\\users\\djivi\\anaconda\\lib\\site-packages (3.0.3)\n",
      "Requirement already satisfied: pandas in c:\\users\\djivi\\anaconda\\lib\\site-packages (2.2.2)\n",
      "Requirement already satisfied: joblib in c:\\users\\djivi\\anaconda\\lib\\site-packages (1.4.2)\n",
      "Requirement already satisfied: scikit-learn in c:\\users\\djivi\\anaconda\\lib\\site-packages (1.5.1)\n",
      "Requirement already satisfied: Werkzeug>=3.0.0 in c:\\users\\djivi\\anaconda\\lib\\site-packages (from flask) (3.0.3)\n",
      "Requirement already satisfied: Jinja2>=3.1.2 in c:\\users\\djivi\\anaconda\\lib\\site-packages (from flask) (3.1.4)\n",
      "Requirement already satisfied: itsdangerous>=2.1.2 in c:\\users\\djivi\\anaconda\\lib\\site-packages (from flask) (2.2.0)\n",
      "Requirement already satisfied: click>=8.1.3 in c:\\users\\djivi\\anaconda\\lib\\site-packages (from flask) (8.1.7)\n",
      "Requirement already satisfied: blinker>=1.6.2 in c:\\users\\djivi\\anaconda\\lib\\site-packages (from flask) (1.6.2)\n",
      "Requirement already satisfied: numpy>=1.26.0 in c:\\users\\djivi\\anaconda\\lib\\site-packages (from pandas) (1.26.4)\n",
      "Requirement already satisfied: python-dateutil>=2.8.2 in c:\\users\\djivi\\anaconda\\lib\\site-packages (from pandas) (2.9.0.post0)\n",
      "Requirement already satisfied: pytz>=2020.1 in c:\\users\\djivi\\anaconda\\lib\\site-packages (from pandas) (2024.1)\n",
      "Requirement already satisfied: tzdata>=2022.7 in c:\\users\\djivi\\anaconda\\lib\\site-packages (from pandas) (2023.3)\n",
      "Requirement already satisfied: scipy>=1.6.0 in c:\\users\\djivi\\anaconda\\lib\\site-packages (from scikit-learn) (1.13.1)\n",
      "Requirement already satisfied: threadpoolctl>=3.1.0 in c:\\users\\djivi\\anaconda\\lib\\site-packages (from scikit-learn) (3.5.0)\n",
      "Requirement already satisfied: colorama in c:\\users\\djivi\\anaconda\\lib\\site-packages (from click>=8.1.3->flask) (0.4.6)\n",
      "Requirement already satisfied: MarkupSafe>=2.0 in c:\\users\\djivi\\anaconda\\lib\\site-packages (from Jinja2>=3.1.2->flask) (2.1.3)\n",
      "Requirement already satisfied: six>=1.5 in c:\\users\\djivi\\anaconda\\lib\\site-packages (from python-dateutil>=2.8.2->pandas) (1.16.0)\n",
      "Note: you may need to restart the kernel to use updated packages.\n"
     ]
    }
   ],
   "source": [
    "pip install flask pandas joblib scikit-learn\n"
   ]
  },
  {
   "cell_type": "code",
   "execution_count": null,
   "id": "7d06ef92-6027-4cb9-b3bf-0f3779e41337",
   "metadata": {},
   "outputs": [
    {
     "name": "stdout",
     "output_type": "stream",
     "text": [
      " * Serving Flask app '__main__'\n",
      " * Debug mode: on\n"
     ]
    },
    {
     "name": "stderr",
     "output_type": "stream",
     "text": [
      "WARNING: This is a development server. Do not use it in a production deployment. Use a production WSGI server instead.\n",
      " * Running on http://127.0.0.1:5000\n",
      "Press CTRL+C to quit\n"
     ]
    }
   ],
   "source": [
    "from flask import Flask, request, render_template, jsonify\n",
    "import pandas as pd\n",
    "import pickle\n",
    "import datetime\n",
    "\n",
    "# Load the trained model\n",
    "with open(\"solar_model.pkl\", \"rb\") as model_file:\n",
    "    model = pickle.load(model_file)\n",
    "\n",
    "# Initialize Flask app\n",
    "app = Flask(__name__)\n",
    "\n",
    "@app.route(\"/\")\n",
    "def home():\n",
    "    return render_template(\"mainpage.html\")  # Serve the main page\n",
    "\n",
    "@app.route(\"/eee\")\n",
    "def prediction_page():\n",
    "    return render_template(\"eee .html\")  # Serve the prediction form page\n",
    "\n",
    "@app.route(\"/predict\", methods=[\"POST\"])\n",
    "def predict():\n",
    "    try:\n",
    "        # Debug: Print received form data\n",
    "        print(\"Received form data:\", request.form)\n",
    "\n",
    "        # Extract input data\n",
    "        try:\n",
    "            source_key = float(request.form[\"sourceKey\"])\n",
    "            ambient_temp = float(request.form[\"ambientTemp\"])\n",
    "            module_temp = float(request.form[\"moduleTemp\"])\n",
    "            irradiation = float(request.form[\"irradiation\"])\n",
    "            date_str = request.form[\"date\"]\n",
    "            time_str = request.form[\"time\"]\n",
    "        except KeyError as e:\n",
    "            return jsonify({\"error\": f\"Missing field: {str(e)}\"}), 400\n",
    "        except ValueError:\n",
    "            return jsonify({\"error\": \"Invalid data format. Please enter numbers correctly.\"}), 400\n",
    "\n",
    "        # Process datetime\n",
    "        try:\n",
    "            dt = datetime.datetime.strptime(f\"{date_str} {time_str}\", \"%Y-%m-%d %H:%M\")\n",
    "            year, month, day, hour, minute = dt.year, dt.month, dt.day, dt.hour, dt.minute\n",
    "            minutes_pass = (hour * 60) + minute\n",
    "        except ValueError:\n",
    "            return jsonify({\"error\": \"Invalid date or time format.\"}), 400\n",
    "\n",
    "        # Create input dataframe\n",
    "        input_data = pd.DataFrame([{\n",
    "            \"SOURCE_KEY\": source_key,\n",
    "            \"AMBIENT_TEMPERATURE\": ambient_temp,\n",
    "            \"MODULE_TEMPERATURE\": module_temp,\n",
    "            \"IRRADIATION\": irradiation,\n",
    "            \"YEAR\": 2005,\n",
    "            \"MONTH\": 5,\n",
    "            \"DAY\": 15,\n",
    "            \"HOUR\": hour,\n",
    "            \"MINUTES\": minute,\n",
    "            \"MINUTES_PASS\": minutes_pass\n",
    "        }])\n",
    "\n",
    "        # Predict\n",
    "        prediction = model.predict(input_data)[0]\n",
    "\n",
    "        # Recommendation\n",
    "        if prediction > 600:\n",
    "                recommendation = (\n",
    "                    \"<h3>✅ High Solar Output: Excellent energy generation.</h3>\"\n",
    "                    \"<p><strong>Recommendation:</strong> Maximize energy storage (if a battery system is available). \"\n",
    "                    \"Schedule high-energy tasks during this period (e.g., EV charging, industrial equipment).</p>\"\n",
    "                    \"<p><strong>Tips:</strong></p>\"\n",
    "                    \"<ul>\"\n",
    "                    \"<li>Run high-power appliances now to take full advantage of available energy.</li>\"\n",
    "                    \"<li>Store excess energy in batteries for later use or sell it back to the grid (if applicable).</li>\"\n",
    "                    \"<li>Monitor panel performance to ensure consistent output.</li>\"\n",
    "                    \"</ul>\"\n",
    "                )\n",
    "        elif 300 <= prediction <= 600:\n",
    "                recommendation = (\n",
    "                    \"<h3>🔆 Moderate Solar Output: Good generation with balanced efficiency.</h3>\"\n",
    "                    \"<p><strong>Recommendation:</strong> Optimal energy output. Focus on efficient energy distribution and usage.</p>\"\n",
    "                    \"<p><strong>Tips:</strong></p>\"\n",
    "                    \"<ul>\"\n",
    "                    \"<li>Run necessary appliances as needed.</li>\"\n",
    "                    \"<li>Avoid unnecessary wastage; conserve energy where possible.</li>\"\n",
    "                    \"<li>Consider partially charging backup batteries.</li>\"\n",
    "                    \"</ul>\"\n",
    "            )\n",
    "        elif 50 <= prediction < 300:\n",
    "                    recommendation = (\n",
    "                        \"<h3>⚠️ Low Solar Output: Limited energy available.</h3>\"\n",
    "                        \"<p><strong>Recommendation:</strong> Moderate output. Improving panel efficiency may help.</p>\"\n",
    "                        \"<p><strong>Tips:</strong></p>\"\n",
    "                        \"<ul>\"\n",
    "                        \"<li>Use only essential appliances.</li>\"\n",
    "                        \"<li>Check for shading or dirt on solar panels.</li>\"\n",
    "                        \"<li>Evaluate panel tilt and orientation to improve output.</li>\"\n",
    "                        \"<li>Consider expanding solar capacity or upgrading system components.</li>\"\n",
    "                        \"</ul>\"\n",
    "                    )\n",
    "        else:\n",
    "            recommendation = (\n",
    "                \"<h3>🚨 Very Low Solar Output: Insufficient for peak energy needs.</h3>\"\n",
    "                \"<p><strong>Recommendation:</strong> Switch to backup power sources such as the grid or a generator. \"\n",
    "                \"Reduce usage of non-essential devices.</p>\"\n",
    "                \"<p><strong>Tips:</strong></p>\"\n",
    "                \"<ul>\"\n",
    "                \"<li>Power only critical systems (lighting, communication, medical, etc.).</li>\"\n",
    "                \"<li>Delay high-energy tasks until solar levels improve.</li>\"\n",
    "                \"<li>If possible, schedule energy-heavy operations for high-sunlight hours.</li>\"\n",
    "                \"<li>Explore adding battery storage to handle future downtimes.</li>\"\n",
    "                \"</ul>\"\n",
    "    )\n",
    "\n",
    "\n",
    "        return jsonify({\n",
    "            \"prediction\": f\"{prediction:.2f} kW\",\n",
    "            \"recommendation\": recommendation\n",
    "        })\n",
    "\n",
    "    except Exception as e:\n",
    "        return jsonify({\"error\": str(e)}), 500\n",
    "\n",
    "if __name__ == \"__main__\":\n",
    "    app.run(debug=True, use_reloader=False)\n"
   ]
  },
  {
   "cell_type": "code",
   "execution_count": 7,
   "id": "6f3af9dc-c1d0-4388-bfd0-53eddb8cbf64",
   "metadata": {},
   "outputs": [
    {
     "ename": "IndentationError",
     "evalue": "unindent does not match any outer indentation level (<string>, line 66)",
     "output_type": "error",
     "traceback": [
      "\u001b[1;36m  File \u001b[1;32m<string>:66\u001b[1;36m\u001b[0m\n\u001b[1;33m    if prediction > 600:\u001b[0m\n\u001b[1;37m                        ^\u001b[0m\n\u001b[1;31mIndentationError\u001b[0m\u001b[1;31m:\u001b[0m unindent does not match any outer indentation level\n"
     ]
    }
   ],
   "source": [
    "\n",
    "%tb\n"
   ]
  },
  {
   "cell_type": "code",
   "execution_count": null,
   "id": "17c2dee5-38e1-40c5-aabf-425c37cf5bed",
   "metadata": {},
   "outputs": [],
   "source": []
  }
 ],
 "metadata": {
  "kernelspec": {
   "display_name": "Python 3 (ipykernel)",
   "language": "python",
   "name": "python3"
  },
  "language_info": {
   "codemirror_mode": {
    "name": "ipython",
    "version": 3
   },
   "file_extension": ".py",
   "mimetype": "text/x-python",
   "name": "python",
   "nbconvert_exporter": "python",
   "pygments_lexer": "ipython3",
   "version": "3.12.7"
  }
 },
 "nbformat": 4,
 "nbformat_minor": 5
}
